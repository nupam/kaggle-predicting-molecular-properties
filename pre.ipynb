{
 "cells": [
  {
   "cell_type": "code",
   "execution_count": 1,
   "metadata": {},
   "outputs": [],
   "source": [
    "import numpy as np\n",
    "import pandas as pd\n",
    "import fastai\n",
    "from tqdm import tqdm_notebook as tqdm\n",
    "from fastai.tabular import *\n",
    "import pickle\n",
    "\n",
    "from multiprocessing import Pool\n",
    "from sklearn.preprocessing import LabelEncoder, LabelBinarizer, StandardScaler\n",
    "np.range = (lambda x:(x.min(), x.max()))"
   ]
  },
  {
   "cell_type": "code",
   "execution_count": 2,
   "metadata": {},
   "outputs": [],
   "source": [
    "train = pd.read_csv(\"train.csv\")\n",
    "test = pd.read_csv('test.csv')\n",
    "structures = pd.read_csv('structures.csv')"
   ]
  },
  {
   "cell_type": "code",
   "execution_count": 3,
   "metadata": {},
   "outputs": [
    {
     "data": {
      "text/html": [
       "<div>\n",
       "<style scoped>\n",
       "    .dataframe tbody tr th:only-of-type {\n",
       "        vertical-align: middle;\n",
       "    }\n",
       "\n",
       "    .dataframe tbody tr th {\n",
       "        vertical-align: top;\n",
       "    }\n",
       "\n",
       "    .dataframe thead th {\n",
       "        text-align: right;\n",
       "    }\n",
       "</style>\n",
       "<table border=\"1\" class=\"dataframe\">\n",
       "  <thead>\n",
       "    <tr style=\"text-align: right;\">\n",
       "      <th></th>\n",
       "      <th>id</th>\n",
       "      <th>molecule_name</th>\n",
       "      <th>atom_index_0</th>\n",
       "      <th>atom_index_1</th>\n",
       "      <th>scalar_coupling_constant</th>\n",
       "      <th>type_i</th>\n",
       "      <th>type_a</th>\n",
       "    </tr>\n",
       "  </thead>\n",
       "  <tbody>\n",
       "    <tr>\n",
       "      <th>0</th>\n",
       "      <td>0</td>\n",
       "      <td>dsgdb9nsd_000001</td>\n",
       "      <td>2</td>\n",
       "      <td>1</td>\n",
       "      <td>84.8076</td>\n",
       "      <td>0</td>\n",
       "      <td>0</td>\n",
       "    </tr>\n",
       "    <tr>\n",
       "      <th>1</th>\n",
       "      <td>1</td>\n",
       "      <td>dsgdb9nsd_000001</td>\n",
       "      <td>2</td>\n",
       "      <td>3</td>\n",
       "      <td>-11.2570</td>\n",
       "      <td>1</td>\n",
       "      <td>1</td>\n",
       "    </tr>\n",
       "    <tr>\n",
       "      <th>2</th>\n",
       "      <td>2</td>\n",
       "      <td>dsgdb9nsd_000001</td>\n",
       "      <td>2</td>\n",
       "      <td>4</td>\n",
       "      <td>-11.2548</td>\n",
       "      <td>1</td>\n",
       "      <td>1</td>\n",
       "    </tr>\n",
       "    <tr>\n",
       "      <th>3</th>\n",
       "      <td>3</td>\n",
       "      <td>dsgdb9nsd_000001</td>\n",
       "      <td>2</td>\n",
       "      <td>5</td>\n",
       "      <td>-11.2543</td>\n",
       "      <td>1</td>\n",
       "      <td>1</td>\n",
       "    </tr>\n",
       "    <tr>\n",
       "      <th>4</th>\n",
       "      <td>4</td>\n",
       "      <td>dsgdb9nsd_000001</td>\n",
       "      <td>3</td>\n",
       "      <td>1</td>\n",
       "      <td>84.8074</td>\n",
       "      <td>0</td>\n",
       "      <td>0</td>\n",
       "    </tr>\n",
       "  </tbody>\n",
       "</table>\n",
       "</div>"
      ],
      "text/plain": [
       "   id     molecule_name  atom_index_0  atom_index_1  scalar_coupling_constant  \\\n",
       "0   0  dsgdb9nsd_000001             2             1                   84.8076   \n",
       "1   1  dsgdb9nsd_000001             2             3                  -11.2570   \n",
       "2   2  dsgdb9nsd_000001             2             4                  -11.2548   \n",
       "3   3  dsgdb9nsd_000001             2             5                  -11.2543   \n",
       "4   4  dsgdb9nsd_000001             3             1                   84.8074   \n",
       "\n",
       "   type_i  type_a  \n",
       "0       0       0  \n",
       "1       1       1  \n",
       "2       1       1  \n",
       "3       1       1  \n",
       "4       0       0  "
      ]
     },
     "execution_count": 3,
     "metadata": {},
     "output_type": "execute_result"
    }
   ],
   "source": [
    "train['type_i'] = train.type.apply(lambda x: int(list(x)[0])-1)\n",
    "train['type_a'] = LabelEncoder().fit_transform(train.type.apply(lambda x: list(x)[-1]))\n",
    "train = train.drop(columns=['type'])\n",
    "train.atom_index_0 += 1\n",
    "train.atom_index_1 += 1\n",
    "train.head()"
   ]
  },
  {
   "cell_type": "code",
   "execution_count": 4,
   "metadata": {},
   "outputs": [
    {
     "name": "stdout",
     "output_type": "stream",
     "text": [
      "2    48.676115\n",
      "1    35.163403\n",
      "0    16.160482\n",
      "Name: type_i, dtype: float64 \n",
      "\n",
      " 0    72.141755\n",
      "1    20.794685\n",
      "2     7.063560\n",
      "Name: type_a, dtype: float64\n"
     ]
    }
   ],
   "source": [
    "print(train.type_i.value_counts()/len(train)*100,'\\n\\n', train.type_a.value_counts()/len(train)*100)"
   ]
  },
  {
   "cell_type": "code",
   "execution_count": 5,
   "metadata": {},
   "outputs": [
    {
     "name": "stdout",
     "output_type": "stream",
     "text": [
      "(1, 29) (1, 29)\n"
     ]
    }
   ],
   "source": [
    "print(np.range(train.atom_index_0.unique()), np.range(train.atom_index_1.unique()))"
   ]
  },
  {
   "cell_type": "code",
   "execution_count": 6,
   "metadata": {},
   "outputs": [],
   "source": [
    "with open('molecules.pkl', 'rb') as f:\n",
    "    molecules_structure, structure_cols, atom_encoder = pickle.load(f)"
   ]
  },
  {
   "cell_type": "code",
   "execution_count": 7,
   "metadata": {},
   "outputs": [],
   "source": [
    "x = train.drop(columns=['scalar_coupling_constant', 'id'])\n",
    "y = train.scalar_coupling_constant"
   ]
  },
  {
   "cell_type": "code",
   "execution_count": 8,
   "metadata": {},
   "outputs": [
    {
     "name": "stdout",
     "output_type": "stream",
     "text": [
      "      molecule_name  atom_index_0  atom_index_1  type_i  type_a\n",
      "0  dsgdb9nsd_000001             2             1       0       0\n",
      "1  dsgdb9nsd_000001             2             3       1       1\n",
      "2  dsgdb9nsd_000001             2             4       1       1\n",
      "3  dsgdb9nsd_000001             2             5       1       1\n",
      "4  dsgdb9nsd_000001             3             1       0       0 \n",
      "\n",
      " 0    84.8076\n",
      "1   -11.2570\n",
      "2   -11.2548\n",
      "3   -11.2543\n",
      "4    84.8074\n"
     ]
    }
   ],
   "source": [
    "print(x.head().to_string(), '\\n\\n', y.head().to_string())"
   ]
  },
  {
   "cell_type": "code",
   "execution_count": 9,
   "metadata": {},
   "outputs": [],
   "source": [
    "class Dataset:\n",
    "    def __init__(self, x, y=None):\n",
    "        assert (y is None) or (len(x) == len(y))\n",
    "        self.x, self.y = x, y\n",
    "        \n",
    "    def __getitem__(self, idx):\n",
    "        if isinstance(idx, slice):\n",
    "            if y is not None: return Dataset(self.x[idx], self.y[idx])\n",
    "            else: return Dataset(self.x[idx])\n",
    "        else:\n",
    "            if y is not None: return self.x[idx], self.y[idx]\n",
    "            else: return self.x[idx]\n",
    "            \n",
    "    def __len__(self):\n",
    "        return len(self.x)"
   ]
  },
  {
   "cell_type": "code",
   "execution_count": 10,
   "metadata": {},
   "outputs": [],
   "source": [
    "class Sampler:\n",
    "    def __init__(self, ds, bs=64, shuffle=True, drop_last=True):\n",
    "        print('sampler init, n: ', len(ds))\n",
    "        self.n, self.bs, self.shuffle = len(ds), bs, shuffle\n",
    "        self.idxs = torch.randperm(self.n) if self.shuffle else torch.arange(self.n)\n",
    "        if drop_last: self.n = (self.n//self.bs)*self.bs\n",
    "\n",
    "    def __iter__(self):\n",
    "        for i in range(0, self.n, self.bs):\n",
    "            yield self.idxs[i : min(self.n, i+self.bs)]\n",
    "\n",
    "    def __len__(self):\n",
    "        return (self.n-1)//self.bs + 1\n",
    "\n",
    "\n",
    "def collate(batch):\n",
    "    #print(batch)\n",
    "    x, y = zip(*batch)\n",
    "    x1, x2, x3 = zip(*x)\n",
    "    x1, x2, x3, y = torch.stack(x1), torch.stack(x2), torch.stack(x3), torch.stack(y)\n",
    "    return (x1, x2, x3), y"
   ]
  },
  {
   "cell_type": "code",
   "execution_count": 92,
   "metadata": {},
   "outputs": [],
   "source": [
    "class Dataloader:\n",
    "    def __init__(self, ds, bs=256, shuffle=True, collate_fn=collate, tfrm=None, drop_last=True):\n",
    "        self.ds, self.bs, self.shuffle, self.collate_fn, self.tfrm = ds, bs, shuffle, collate_fn, tfrm\n",
    "        self.sampler = Sampler(self.ds, self.bs, self.shuffle, drop_last)\n",
    "        \n",
    "    def _get(self, i):\n",
    "        x, y = self.ds[i]\n",
    "        mol = molecules_structure[x[0]]\n",
    "        if self.tfrm: mol = self.tfrm(mol)\n",
    "            \n",
    "        indices = tensor(x[1:3].astype(np.int64))\n",
    "        meta = tensor(x[3:5].astype(np.int64))\n",
    "        \n",
    "        return (indices, meta, mol), tensor(y)\n",
    "        \n",
    "    def __iter__(self):\n",
    "        \n",
    "        for idxs in self.sampler:\n",
    "            yield self.collate_fn([self._get(i) for i in idxs])\n",
    "            \n",
    "    def __len__(self):\n",
    "        return self.sampler.__len__()"
   ]
  },
  {
   "cell_type": "code",
   "execution_count": 94,
   "metadata": {},
   "outputs": [],
   "source": [
    "ds = Dataset(x.values, y.values)"
   ]
  },
  {
   "cell_type": "code",
   "execution_count": 127,
   "metadata": {},
   "outputs": [
    {
     "name": "stdout",
     "output_type": "stream",
     "text": [
      "init called\n",
      "sampler init, n:  11\n"
     ]
    }
   ],
   "source": [
    "dl = Dataloader(ds[:11], bs=2, shuffle=False, drop_last=True)"
   ]
  },
  {
   "cell_type": "code",
   "execution_count": 121,
   "metadata": {},
   "outputs": [],
   "source": [
    "def tfrm(mol, p, q, natoms):\n",
    "    perm = np.arange(30)\n",
    "    perm[1: natoms+1] = np.random.permutation(np.arange(1, natoms+1))\n",
    "    p, = np.where(perm==p)[0]\n",
    "    q, = np.where(perm==q)[0]\n",
    "    mol = mol[perm]\n",
    "    return mol, p, q"
   ]
  },
  {
   "cell_type": "code",
   "execution_count": 110,
   "metadata": {},
   "outputs": [],
   "source": [
    "for _ in range(10000):\n",
    "    mol = np.ones((30, 16))*np.arange(30).reshape((30, 1))\n",
    "    mol, p, q = tfrm(mol, 8, 1, 20)\n",
    "    assert mol[p][0] == 8 and mol[q][0]==1, f'{p,mol[p][0], q, mol[q][0] }'"
   ]
  },
  {
   "cell_type": "code",
   "execution_count": 47,
   "metadata": {},
   "outputs": [
    {
     "name": "stdout",
     "output_type": "stream",
     "text": [
      "sampler init, n:  100\n"
     ]
    },
    {
     "data": {
      "text/plain": [
       "tensor([ 0,  2,  4,  6,  7,  8, 11, 13, 18, 19, 20, 22, 24, 25, 26, 27, 29, 30,\n",
       "        31, 32, 33, 34, 36, 37, 38, 40, 41, 43, 44, 45, 46, 47, 50, 51, 52, 58,\n",
       "        60, 61, 62, 65, 67, 69, 72, 73, 74, 75, 76, 77, 79, 80, 82, 84, 85, 86,\n",
       "        87, 88, 89, 90, 91, 92, 94, 96, 98, 99])"
      ]
     },
     "execution_count": 47,
     "metadata": {},
     "output_type": "execute_result"
    }
   ],
   "source": [
    "x = list(Sampler(range(100)))\n",
    "torch.sort(x[0])[0]"
   ]
  },
  {
   "cell_type": "code",
   "execution_count": null,
   "metadata": {},
   "outputs": [],
   "source": []
  }
 ],
 "metadata": {
  "kernelspec": {
   "display_name": ".torch",
   "language": "python",
   "name": ".torch"
  },
  "language_info": {
   "codemirror_mode": {
    "name": "ipython",
    "version": 3
   },
   "file_extension": ".py",
   "mimetype": "text/x-python",
   "name": "python",
   "nbconvert_exporter": "python",
   "pygments_lexer": "ipython3",
   "version": "3.6.8"
  }
 },
 "nbformat": 4,
 "nbformat_minor": 2
}
