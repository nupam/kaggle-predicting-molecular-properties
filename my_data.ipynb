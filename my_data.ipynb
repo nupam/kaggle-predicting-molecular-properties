{
 "cells": [
  {
   "cell_type": "code",
   "execution_count": 30,
   "metadata": {},
   "outputs": [],
   "source": [
    "from exp.nb_01 import *\n",
    "import torch\n",
    "import torch.nn.functional as F\n",
    "from torch import nn\n",
    "import fastai\n",
    "\n",
    "%matplotlib inline\n",
    "from matplotlib import pyplot as plt\n",
    "\n",
    "def get_data():\n",
    "    path = datasets.download_data(MNIST_URL, ext='.gz')\n",
    "    with gzip.open(path, 'rb') as f:\n",
    "        ((x_train, y_train), (x_valid, y_valid), _) = pickle.load(f, encoding='latin-1')\n",
    "    return map(tensor, (x_train,y_train,x_valid,y_valid))\n",
    "\n",
    "def normalize(x, m, s): return (x-m)/s\n",
    "\n",
    "def stat(x): return x.mean(), x.std()"
   ]
  },
  {
   "cell_type": "code",
   "execution_count": 2,
   "metadata": {},
   "outputs": [
    {
     "data": {
      "text/plain": [
       "(50000, 784, tensor(10), 64)"
      ]
     },
     "execution_count": 2,
     "metadata": {},
     "output_type": "execute_result"
    }
   ],
   "source": [
    "x_train,y_train,x_valid,y_valid = get_data()\n",
    "n,m = x_train.shape\n",
    "c = y_train.max()+1\n",
    "nh = 64\n",
    "n,m,c, nh"
   ]
  },
  {
   "cell_type": "code",
   "execution_count": 3,
   "metadata": {},
   "outputs": [
    {
     "data": {
      "text/plain": [
       "(tensor(-7.6999e-06), tensor(1.), tensor(-0.0059), tensor(0.9924))"
      ]
     },
     "execution_count": 3,
     "metadata": {},
     "output_type": "execute_result"
    }
   ],
   "source": [
    "##normalize\n",
    "mean, std = x_train.mean(), x_train.std()\n",
    "x_train = normalize(x_train, mean, std)\n",
    "x_valid = normalize(x_valid, mean, std)\n",
    "x_train.mean(), x_train.std(), x_valid.mean(), x_valid.std()"
   ]
  },
  {
   "cell_type": "code",
   "execution_count": 4,
   "metadata": {},
   "outputs": [],
   "source": [
    "class Model(torch.nn.Module):\n",
    "    def __init__(self, ni, nh, no):\n",
    "        super().__init__()\n",
    "        self.l1 = nn.Linear(ni, nh)\n",
    "        self.l2 = nn.Linear(nh, no)\n",
    "        \n",
    "    def forward(self, inp):\n",
    "        return self.l2(F.relu(self.l1(inp)))"
   ]
  },
  {
   "cell_type": "code",
   "execution_count": 6,
   "metadata": {},
   "outputs": [
    {
     "data": {
      "text/plain": [
       "Model(\n",
       "  (l1): Linear(in_features=784, out_features=64, bias=True)\n",
       "  (l2): Linear(in_features=64, out_features=10, bias=True)\n",
       ")"
      ]
     },
     "execution_count": 6,
     "metadata": {},
     "output_type": "execute_result"
    }
   ],
   "source": [
    "model = Model(m, nh, int(c))\n",
    "model"
   ]
  },
  {
   "cell_type": "code",
   "execution_count": 7,
   "metadata": {},
   "outputs": [],
   "source": [
    "def acc(pred, targ):\n",
    "    return (pred.argmax(dim=1) == targ).float().mean()"
   ]
  },
  {
   "cell_type": "code",
   "execution_count": 8,
   "metadata": {},
   "outputs": [],
   "source": [
    "class Dataset:\n",
    "    def __init__(self, x, y):\n",
    "        assert len(x) == len(y)\n",
    "        self.x, self.y = x, y\n",
    "    def __getitem__(self, idx):\n",
    "        if isinstance(idx, slice):\n",
    "            return Dataset(self.x[idx], self.y[idx])\n",
    "        else:\n",
    "            return self.x[idx], self.y[idx]\n",
    "    def __len__(self):\n",
    "        return len(self.x)"
   ]
  },
  {
   "cell_type": "code",
   "execution_count": 9,
   "metadata": {},
   "outputs": [],
   "source": [
    "train_ds,valid_ds = Dataset(x_train, y_train),Dataset(x_valid, y_valid)\n",
    "assert len(train_ds)==len(x_train)\n",
    "assert len(valid_ds)==len(x_valid)"
   ]
  },
  {
   "cell_type": "code",
   "execution_count": 79,
   "metadata": {},
   "outputs": [],
   "source": [
    "class Sampler:\n",
    "    def __init__(self, ds, bs=64, shuffle=True):\n",
    "        print('sampler init, n: ', len(ds) )\n",
    "        self.n, self.bs, self.shuffle = len(ds), bs, shuffle\n",
    "        self.idxs = torch.randperm(self.n) if self.shuffle else torch.arange(self.n)\n",
    "        \n",
    "    def __iter__(self):\n",
    "        for i in range(0, self.n, self.bs):\n",
    "            yield self.idxs[i : min(self.n, i+self.bs)]\n",
    "            \n",
    "\n",
    "def collate(batch):\n",
    "    x, y = zip(*batch)\n",
    "    x, y = torch.stack(x), torch.stack(y)\n",
    "    return x, y\n",
    "\n",
    "class Dataloader:\n",
    "    def __init__(self, ds, bs=64, shuffle=True, collate_fn=collate):\n",
    "        print('init called')\n",
    "        self.ds, self.bs, self.shuffle, self.collate_fn = ds, bs, shuffle, collate_fn\n",
    "        self.sampler = Sampler(self.ds, self.bs, self.shuffle)\n",
    "        \n",
    "    def __iter__(self):\n",
    "        for idxs in self.sampler:\n",
    "            #print('indexes', idxs)\n",
    "            yield self.collate_fn([self.ds[i] for i in idxs])\n",
    "            \n",
    "    def __len__(self):\n",
    "        return (len(self.ds)-1)//self.bs + 1"
   ]
  },
  {
   "cell_type": "code",
   "execution_count": 80,
   "metadata": {},
   "outputs": [
    {
     "name": "stdout",
     "output_type": "stream",
     "text": [
      "init called\n",
      "sampler init, n:  10\n"
     ]
    }
   ],
   "source": [
    "train_dl = Dataloader(train_ds[:10], 4)"
   ]
  },
  {
   "cell_type": "code",
   "execution_count": 87,
   "metadata": {},
   "outputs": [],
   "source": [
    "it = iter(train_dl)"
   ]
  },
  {
   "cell_type": "code",
   "execution_count": 89,
   "metadata": {},
   "outputs": [
    {
     "data": {
      "image/png": "[encoded data removed]",
      "text/plain": [
       "<Figure size 432x288 with 4 Axes>"
      ]
     },
     "metadata": {
      "needs_background": "light"
     },
     "output_type": "display_data"
    }
   ],
   "source": [
    "x, y = next(it)\n",
    "for i in range(len(x)):\n",
    "    plt.subplot(2, 2, i+1)\n",
    "    plt.imshow(x[i].view(28,28), cmap='gray')\n",
    "    plt.axis('off')\n",
    "    plt.title(str(y[i]))"
   ]
  },
  {
   "cell_type": "code",
   "execution_count": 60,
   "metadata": {},
   "outputs": [],
   "source": [
    "def getdls(train_ds, test_ds, bs):\n",
    "    return Dataloader(train_ds, bs), Dataloader(test_ds, 2*bs, False)"
   ]
  },
  {
   "cell_type": "code",
   "execution_count": 25,
   "metadata": {},
   "outputs": [],
   "source": [
    "class optimizer:\n",
    "    def __init__(self, params, lr=0.01):\n",
    "        self.params, self.lr = list(params), lr\n",
    "    \n",
    "    def step(self):\n",
    "        with torch.no_grad():\n",
    "            for p in self.params:\n",
    "                p -= p.grad*self.lr\n",
    "                \n",
    "    def zero_grad(self):\n",
    "        for p in self.params: p.grad.data.zero_()\n",
    "    "
   ]
  },
  {
   "cell_type": "code",
   "execution_count": 26,
   "metadata": {},
   "outputs": [],
   "source": [
    "def fit(model, epochs, loss_func, opt, train_dl, valid_dl):\n",
    "    for epoch in range(epochs):\n",
    "        \n",
    "        model.train()\n",
    "        for x, y in train_dl:\n",
    "            preds = model(x)\n",
    "            loss = loss_func(preds, y)\n",
    "            loss.backward()\n",
    "            \n",
    "            opt.step()\n",
    "            opt.zero_grad()\n",
    "        \n",
    "        model.eval()\n",
    "        with torch.no_grad():\n",
    "            tot_loss,tot_acc = 0.,0.\n",
    "            for xb,yb in valid_dl:\n",
    "                pred = model(xb)\n",
    "                tot_loss += loss_func(pred, yb)\n",
    "                tot_acc  += acc(pred,yb)\n",
    "        nv = len(valid_dl)\n",
    "        print(epoch, tot_loss/nv, tot_acc/nv)\n",
    "    return tot_loss/nv, tot_acc/nv\n",
    "            "
   ]
  },
  {
   "cell_type": "code",
   "execution_count": 94,
   "metadata": {},
   "outputs": [
    {
     "name": "stdout",
     "output_type": "stream",
     "text": [
      "init called\n",
      "sampler init, n:  50000\n",
      "init called\n",
      "sampler init, n:  10000\n",
      "0 tensor(0.1501) tensor(0.9587)\n",
      "1 tensor(0.1178) tensor(0.9661)\n",
      "2 tensor(0.1045) tensor(0.9684)\n",
      "3 tensor(0.0976) tensor(0.9702)\n",
      "4 tensor(0.0931) tensor(0.9729)\n",
      "5 tensor(0.0915) tensor(0.9738)\n",
      "6 tensor(0.0897) tensor(0.9743)\n",
      "7 tensor(0.0894) tensor(0.9745)\n",
      "8 tensor(0.0910) tensor(0.9746)\n",
      "9 tensor(0.0921) tensor(0.9744)\n",
      "10 tensor(0.0961) tensor(0.9736)\n",
      "11 tensor(0.0985) tensor(0.9738)\n",
      "12 tensor(0.1012) tensor(0.9736)\n",
      "13 tensor(0.1031) tensor(0.9735)\n",
      "14 tensor(0.1045) tensor(0.9736)\n",
      "15 tensor(0.1052) tensor(0.9742)\n",
      "16 tensor(0.1055) tensor(0.9745)\n",
      "17 tensor(0.1060) tensor(0.9753)\n",
      "18 tensor(0.1064) tensor(0.9750)\n",
      "19 tensor(0.1071) tensor(0.9752)\n",
      "CPU times: user 2min 33s, sys: 391 ms, total: 2min 34s\n",
      "Wall time: 23.1 s\n"
     ]
    },
    {
     "data": {
      "text/plain": [
       "(tensor(0.1071), tensor(0.9752))"
      ]
     },
     "execution_count": 94,
     "metadata": {},
     "output_type": "execute_result"
    }
   ],
   "source": [
    "model = Model(m, nh, 10)\n",
    "%time fit(model, 20, F.cross_entropy, optimizer(model.parameters(), 0.1), *getdls(train_ds, valid_ds, 64))"
   ]
  },
  {
   "cell_type": "code",
   "execution_count": null,
   "metadata": {},
   "outputs": [],
   "source": []
  }
 ],
 "metadata": {
  "kernelspec": {
   "display_name": ".torch",
   "language": "python",
   "name": ".torch"
  },
  "language_info": {
   "codemirror_mode": {
    "name": "ipython",
    "version": 3
   },
   "file_extension": ".py",
   "mimetype": "text/x-python",
   "name": "python",
   "nbconvert_exporter": "python",
   "pygments_lexer": "ipython3",
   "version": "3.6.8"
  }
 },
 "nbformat": 4,
 "nbformat_minor": 2
}
